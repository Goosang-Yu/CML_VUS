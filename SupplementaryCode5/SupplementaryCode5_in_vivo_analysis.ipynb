{
 "cells": [
  {
   "cell_type": "markdown",
   "metadata": {},
   "source": [
    "# **Supplementary Code 5**\n",
    "This notebook was used for analysis of NGS reads containing intended prime-editing and synonymous mutation marker. For more detail, please read Methods and Supplementary Information. \n",
    "\n",
    "Lead contact: Hyoungbum Henry Kim (hkim1@gmail.com)\n",
    "\n",
    "Technical contact: Goosang Yu (gsyu93@gmail.com), Yusang Jung (ys.jung@yuhs.ac)"
   ]
  },
  {
   "cell_type": "markdown",
   "metadata": {},
   "source": [
    "## Directory tree\n",
    "\n",
    "📦Working directory  \n",
    " ┣ 📂data  \n",
    " ┃ ┣ 📂NGS_FASTQ_files  \n",
    " ┃ ┣ 📂NGS_frequency_table  \n",
    " ┃ ┣ 📜ABL1_ex4.csv  \n",
    " ┃ ┗ 📜ABL1_ex5.csv  \n",
    " ┃  \n",
    " ┣ 📂src  \n",
    " ┃ ┣ 📜ABL1_ex4_pos1T_A_output.parquet  \n",
    " ┃  \n",
    " ┣ 📂figures  \n",
    " ┃ ┣ 📜ABL1_ex4_pos1T_A_output.parquet  \n",
    " ┃  \n",
    " ┣ 📂variants_info  \n",
    " ┃ ┣ 📜invivo_ex4_info.csv  \n",
    " ┃ ┗ 📜invivo_ex9_info.csv  \n",
    " ┃  \n",
    " ┗ 📜SuppleCode5.ipynb (this file)  "
   ]
  },
  {
   "cell_type": "markdown",
   "metadata": {},
   "source": [
    "# Requirements\n",
    "- CRISPResso2 (>= 2.x.x)\n",
    "- pandas"
   ]
  },
  {
   "cell_type": "markdown",
   "metadata": {},
   "source": [
    "# Step 0: Import packagies"
   ]
  },
  {
   "cell_type": "code",
   "execution_count": 4,
   "metadata": {},
   "outputs": [],
   "source": [
    "import sys, os\n",
    "import subprocess\n",
    "import pandas as pd\n",
    "from glob import glob\n",
    "\n",
    "from src.Alignment import ABL1VUS\n",
    "from src.VarCalling import *"
   ]
  },
  {
   "cell_type": "markdown",
   "metadata": {},
   "source": [
    "## In vivo xenograft model screening analysis\n",
    "Figure X. XX"
   ]
  },
  {
   "cell_type": "markdown",
   "metadata": {},
   "source": [
    "### Step 1: Download NGS FASTQ files"
   ]
  },
  {
   "cell_type": "markdown",
   "metadata": {},
   "source": [
    "### Step 2: Alignment NGS reads to reference variants sequences"
   ]
  },
  {
   "cell_type": "code",
   "execution_count": 6,
   "metadata": {},
   "outputs": [],
   "source": [
    "list_samples = [\n",
    "    'C9Bosutinib789',\n",
    "\n",
    "    'C9Bosutinib790',\n",
    "\n",
    "    'C4Bosutinib791',\n",
    "    'C9Bosutinib791',\n",
    "\n",
    "    'C4Ponatinib793',\n",
    "\n",
    "    'C4Ponatinib794',\n",
    "    'C9Ponatinib794',\n",
    "\n",
    "    'C4Ponatinib795',\n",
    "    'C9Ponatinib795',\n",
    "\n",
    "    'C4Ponatinib796',\n",
    "    'C9Ponatinib796',\n",
    "\n",
    "    'C4Control797',\n",
    "    'C9Control797',\n",
    "\n",
    "    'C4Control798',\n",
    "    'C9Control798',\n",
    "\n",
    "    'C9Control800',\n",
    "    'C4Control800',\n",
    "\n",
    "    'K562-PE4k_background_ex4-2',\n",
    "    'K562-PE4k_background_ex9',\n",
    "]"
   ]
  },
  {
   "cell_type": "code",
   "execution_count": null,
   "metadata": {},
   "outputs": [],
   "source": [
    "data_dir = 'data/NGS_FASTQ_files/'\n",
    "\n",
    "for sample_id in list_samples:\n",
    "    \n",
    "    files = list(glob(f'{data_dir}/{sample_id}*.fq.gz'))\n",
    "    \n",
    "    exon_num = list(sample_id)[1]\n",
    "    \n",
    "    r1 = files[0]\n",
    "    r2 = files[1]\n",
    "\n",
    "    abl_e8 = ABL1VUS(sample_id, r1, r2, exon=f'invivo_exon{exon_num}').run(out_dir='data')\n",
    "\n"
   ]
  },
  {
   "cell_type": "markdown",
   "metadata": {},
   "source": [
    "## Step 3: Variant read counts"
   ]
  },
  {
   "cell_type": "code",
   "execution_count": 7,
   "metadata": {},
   "outputs": [
    {
     "name": "stdout",
     "output_type": "stream",
     "text": [
      "\n",
      "[Info] Start - K562-PE4k_background_ex4-2\n",
      "[Info] Length of variants: 1581\n"
     ]
    },
    {
     "name": "stderr",
     "output_type": "stream",
     "text": [
      "[Info] Read counting: K562-PE4k_background_ex4-2: 100%|██████████| 36367/36367 [00:03<00:00, 10515.97it/s]\n"
     ]
    }
   ],
   "source": [
    "sample_id = 'K562-PE4k_background_ex4-2'\n",
    "exon_num = 4\n",
    "\n",
    "df_count = make_count_file(freq_table=f'data/NGS_frequency_table/{sample_id}.txt',\n",
    "                            var_ref=f'variants_info/invivo_ex{exon_num}_info.csv')\n",
    "\n",
    "df_count.to_csv(f'data/read_counts/Stats_{sample_id}.csv', index=False)"
   ]
  },
  {
   "cell_type": "code",
   "execution_count": 8,
   "metadata": {},
   "outputs": [
    {
     "name": "stdout",
     "output_type": "stream",
     "text": [
      "\n",
      "[Info] Start - K562-PE4k_background_ex9\n",
      "[Info] Length of variants: 799\n"
     ]
    },
    {
     "name": "stderr",
     "output_type": "stream",
     "text": [
      "[Info] Read counting: K562-PE4k_background_ex9: 100%|██████████| 8383/8383 [00:00<00:00, 10080.98it/s]\n"
     ]
    }
   ],
   "source": [
    "sample_id = 'K562-PE4k_background_ex9'\n",
    "exon_num = 9\n",
    "\n",
    "df_count = make_count_file(freq_table=f'data/NGS_frequency_table/{sample_id}.txt',\n",
    "                            var_ref=f'variants_info/invivo_ex{exon_num}_info.csv')\n",
    "\n",
    "df_count.to_csv(f'data/read_counts/Stats_{sample_id}.csv', index=False)"
   ]
  },
  {
   "cell_type": "code",
   "execution_count": 5,
   "metadata": {},
   "outputs": [
    {
     "name": "stdout",
     "output_type": "stream",
     "text": [
      "\n",
      "[Info] Start - C9Bosutinib789\n",
      "[Info] Length of variants: 799\n"
     ]
    },
    {
     "name": "stderr",
     "output_type": "stream",
     "text": [
      "[Info] Read counting: C9Bosutinib789: 100%|██████████| 52886/52886 [00:05<00:00, 10495.71it/s]\n"
     ]
    },
    {
     "name": "stdout",
     "output_type": "stream",
     "text": [
      "\n",
      "[Info] Start - C9Bosutinib790\n",
      "[Info] Length of variants: 799\n"
     ]
    },
    {
     "name": "stderr",
     "output_type": "stream",
     "text": [
      "[Info] Read counting: C9Bosutinib790: 100%|██████████| 42050/42050 [00:04<00:00, 10342.63it/s]\n"
     ]
    },
    {
     "name": "stdout",
     "output_type": "stream",
     "text": [
      "\n",
      "[Info] Start - C4Bosutinib791\n",
      "[Info] Length of variants: 1581\n"
     ]
    },
    {
     "name": "stderr",
     "output_type": "stream",
     "text": [
      "[Info] Read counting: C4Bosutinib791: 100%|██████████| 284021/284021 [00:27<00:00, 10354.46it/s]\n"
     ]
    },
    {
     "name": "stdout",
     "output_type": "stream",
     "text": [
      "\n",
      "[Info] Start - C9Bosutinib791\n",
      "[Info] Length of variants: 799\n"
     ]
    },
    {
     "name": "stderr",
     "output_type": "stream",
     "text": [
      "[Info] Read counting: C9Bosutinib791: 100%|██████████| 55855/55855 [00:05<00:00, 9366.39it/s] \n"
     ]
    },
    {
     "name": "stdout",
     "output_type": "stream",
     "text": [
      "\n",
      "[Info] Start - C4Ponatinib793\n",
      "[Info] Length of variants: 1581\n"
     ]
    },
    {
     "name": "stderr",
     "output_type": "stream",
     "text": [
      "[Info] Read counting: C4Ponatinib793: 100%|██████████| 327517/327517 [00:31<00:00, 10282.92it/s]\n"
     ]
    },
    {
     "name": "stdout",
     "output_type": "stream",
     "text": [
      "\n",
      "[Info] Start - C4Ponatinib794\n",
      "[Info] Length of variants: 1581\n"
     ]
    },
    {
     "name": "stderr",
     "output_type": "stream",
     "text": [
      "[Info] Read counting: C4Ponatinib794: 100%|██████████| 294338/294338 [00:28<00:00, 10295.50it/s]\n"
     ]
    },
    {
     "name": "stdout",
     "output_type": "stream",
     "text": [
      "\n",
      "[Info] Start - C9Ponatinib794\n",
      "[Info] Length of variants: 799\n"
     ]
    },
    {
     "name": "stderr",
     "output_type": "stream",
     "text": [
      "[Info] Read counting: C9Ponatinib794: 100%|██████████| 77998/77998 [00:07<00:00, 10404.56it/s]\n"
     ]
    },
    {
     "name": "stdout",
     "output_type": "stream",
     "text": [
      "\n",
      "[Info] Start - C4Ponatinib795\n",
      "[Info] Length of variants: 1581\n"
     ]
    },
    {
     "name": "stderr",
     "output_type": "stream",
     "text": [
      "[Info] Read counting: C4Ponatinib795: 100%|██████████| 324937/324937 [00:31<00:00, 10341.72it/s]\n"
     ]
    },
    {
     "name": "stdout",
     "output_type": "stream",
     "text": [
      "\n",
      "[Info] Start - C9Ponatinib795\n",
      "[Info] Length of variants: 799\n"
     ]
    },
    {
     "name": "stderr",
     "output_type": "stream",
     "text": [
      "[Info] Read counting: C9Ponatinib795: 100%|██████████| 76429/76429 [00:07<00:00, 10410.99it/s]\n"
     ]
    },
    {
     "name": "stdout",
     "output_type": "stream",
     "text": [
      "\n",
      "[Info] Start - C4Ponatinib796\n",
      "[Info] Length of variants: 1581\n"
     ]
    },
    {
     "name": "stderr",
     "output_type": "stream",
     "text": [
      "[Info] Read counting: C4Ponatinib796: 100%|██████████| 374900/374900 [00:36<00:00, 10310.30it/s]\n"
     ]
    },
    {
     "name": "stdout",
     "output_type": "stream",
     "text": [
      "\n",
      "[Info] Start - C9Ponatinib796\n",
      "[Info] Length of variants: 799\n"
     ]
    },
    {
     "name": "stderr",
     "output_type": "stream",
     "text": [
      "[Info] Read counting: C9Ponatinib796: 100%|██████████| 77316/77316 [00:07<00:00, 10387.44it/s]\n"
     ]
    },
    {
     "name": "stdout",
     "output_type": "stream",
     "text": [
      "\n",
      "[Info] Start - C4Control797\n",
      "[Info] Length of variants: 1581\n"
     ]
    },
    {
     "name": "stderr",
     "output_type": "stream",
     "text": [
      "[Info] Read counting: C4Control797: 100%|██████████| 306136/306136 [00:29<00:00, 10375.86it/s]\n"
     ]
    },
    {
     "name": "stdout",
     "output_type": "stream",
     "text": [
      "\n",
      "[Info] Start - C9Control797\n",
      "[Info] Length of variants: 799\n"
     ]
    },
    {
     "name": "stderr",
     "output_type": "stream",
     "text": [
      "[Info] Read counting: C9Control797: 100%|██████████| 70761/70761 [00:06<00:00, 10396.05it/s]\n"
     ]
    },
    {
     "name": "stdout",
     "output_type": "stream",
     "text": [
      "\n",
      "[Info] Start - C4Control798\n",
      "[Info] Length of variants: 1581\n"
     ]
    },
    {
     "name": "stderr",
     "output_type": "stream",
     "text": [
      "[Info] Read counting: C4Control798: 100%|██████████| 300013/300013 [00:29<00:00, 10337.80it/s]\n"
     ]
    },
    {
     "name": "stdout",
     "output_type": "stream",
     "text": [
      "\n",
      "[Info] Start - C9Control798\n",
      "[Info] Length of variants: 799\n"
     ]
    },
    {
     "name": "stderr",
     "output_type": "stream",
     "text": [
      "[Info] Read counting: C9Control798: 100%|██████████| 76289/76289 [00:07<00:00, 10521.16it/s]\n"
     ]
    },
    {
     "name": "stdout",
     "output_type": "stream",
     "text": [
      "\n",
      "[Info] Start - C9Control800\n",
      "[Info] Length of variants: 799\n"
     ]
    },
    {
     "name": "stderr",
     "output_type": "stream",
     "text": [
      "[Info] Read counting: C9Control800: 100%|██████████| 60038/60038 [00:05<00:00, 10393.67it/s]\n"
     ]
    },
    {
     "name": "stdout",
     "output_type": "stream",
     "text": [
      "\n",
      "[Info] Start - C4Control800\n",
      "[Info] Length of variants: 1581\n"
     ]
    },
    {
     "name": "stderr",
     "output_type": "stream",
     "text": [
      "[Info] Read counting: C4Control800: 100%|██████████| 307297/307297 [00:29<00:00, 10348.52it/s]\n"
     ]
    }
   ],
   "source": [
    "for sample_id in list_samples:\n",
    "    \n",
    "    exon_num = list(sample_id)[1]\n",
    "\n",
    "    df_count = make_count_file(freq_table=f'data/NGS_frequency_table/{sample_id}.txt',\n",
    "                               var_ref=f'variants_info/invivo_ex{exon_num}_info.csv')\n",
    "    \n",
    "    df_count.to_csv(f'data/read_counts/Stats_{sample_id}.csv', index=False)\n"
   ]
  },
  {
   "cell_type": "markdown",
   "metadata": {},
   "source": [
    "## Step 4: Odds ratio and p-value calculation"
   ]
  },
  {
   "cell_type": "code",
   "execution_count": 1,
   "metadata": {},
   "outputs": [],
   "source": [
    "from src.VarCalling import read_statistics"
   ]
  },
  {
   "cell_type": "code",
   "execution_count": 2,
   "metadata": {},
   "outputs": [
    {
     "name": "stdout",
     "output_type": "stream",
     "text": [
      "Analysis: Stats_C4Control800\n"
     ]
    },
    {
     "data": {
      "text/html": [
       "<div>\n",
       "<style scoped>\n",
       "    .dataframe tbody tr th:only-of-type {\n",
       "        vertical-align: middle;\n",
       "    }\n",
       "\n",
       "    .dataframe tbody tr th {\n",
       "        vertical-align: top;\n",
       "    }\n",
       "\n",
       "    .dataframe thead th {\n",
       "        text-align: right;\n",
       "    }\n",
       "</style>\n",
       "<table border=\"1\" class=\"dataframe\">\n",
       "  <thead>\n",
       "    <tr style=\"text-align: right;\">\n",
       "      <th></th>\n",
       "      <th>RefSeq</th>\n",
       "      <th>Label</th>\n",
       "      <th>RefRead</th>\n",
       "      <th>AA_var</th>\n",
       "      <th>SNV_var</th>\n",
       "      <th>count</th>\n",
       "      <th>Edited_WT_count</th>\n",
       "      <th>RPM</th>\n",
       "      <th>UE_SynPE_count</th>\n",
       "      <th>UE_WT_count</th>\n",
       "      <th>OR</th>\n",
       "      <th>pvalue</th>\n",
       "    </tr>\n",
       "  </thead>\n",
       "  <tbody>\n",
       "    <tr>\n",
       "      <th>0</th>\n",
       "      <td>CATCACCACGCTCCATTATCAGGCCCCAAAGCGCAACAAGCCCACT...</td>\n",
       "      <td>SynPE</td>\n",
       "      <td>Both</td>\n",
       "      <td>P216Q</td>\n",
       "      <td>ABL1_ex4_pos103C_A</td>\n",
       "      <td>3</td>\n",
       "      <td>1018497</td>\n",
       "      <td>2.058072</td>\n",
       "      <td>0</td>\n",
       "      <td>219921</td>\n",
       "      <td>0.863711</td>\n",
       "      <td>1.00000</td>\n",
       "    </tr>\n",
       "    <tr>\n",
       "      <th>1</th>\n",
       "      <td>CATCACCACGCTCCATTATCAAGCTCCAAAGCGCAACAAGCCCACT...</td>\n",
       "      <td>SynPE</td>\n",
       "      <td>Both</td>\n",
       "      <td>P216Q</td>\n",
       "      <td>ABL1_ex4_pos103C_A</td>\n",
       "      <td>1</td>\n",
       "      <td>1018497</td>\n",
       "      <td>0.686024</td>\n",
       "      <td>1</td>\n",
       "      <td>219921</td>\n",
       "      <td>0.215928</td>\n",
       "      <td>0.32363</td>\n",
       "    </tr>\n",
       "    <tr>\n",
       "      <th>2</th>\n",
       "      <td>CATCACCACGCTCCATTATCGAGCACCAAAGCGCAACAAGCCCACT...</td>\n",
       "      <td>SynPE</td>\n",
       "      <td>Both</td>\n",
       "      <td>P216R</td>\n",
       "      <td>ABL1_ex4_pos103C_G</td>\n",
       "      <td>0</td>\n",
       "      <td>1018497</td>\n",
       "      <td>0.000000</td>\n",
       "      <td>0</td>\n",
       "      <td>219921</td>\n",
       "      <td>0.215928</td>\n",
       "      <td>1.00000</td>\n",
       "    </tr>\n",
       "    <tr>\n",
       "      <th>3</th>\n",
       "      <td>CATCACCACGCTCCATTATCGAGCTCCAAAGCGCAACAAGCCCACT...</td>\n",
       "      <td>SynPE</td>\n",
       "      <td>Both</td>\n",
       "      <td>P216R</td>\n",
       "      <td>ABL1_ex4_pos103C_G</td>\n",
       "      <td>0</td>\n",
       "      <td>1018497</td>\n",
       "      <td>0.000000</td>\n",
       "      <td>0</td>\n",
       "      <td>219921</td>\n",
       "      <td>0.215928</td>\n",
       "      <td>1.00000</td>\n",
       "    </tr>\n",
       "    <tr>\n",
       "      <th>4</th>\n",
       "      <td>CATCACCACGCTCCATTATCTAGCTCCAAAGCGCAACAAGCCCACT...</td>\n",
       "      <td>SynPE</td>\n",
       "      <td>Both</td>\n",
       "      <td>P216L</td>\n",
       "      <td>ABL1_ex4_pos103C_T</td>\n",
       "      <td>0</td>\n",
       "      <td>1018497</td>\n",
       "      <td>0.000000</td>\n",
       "      <td>0</td>\n",
       "      <td>219921</td>\n",
       "      <td>0.215928</td>\n",
       "      <td>1.00000</td>\n",
       "    </tr>\n",
       "    <tr>\n",
       "      <th>...</th>\n",
       "      <td>...</td>\n",
       "      <td>...</td>\n",
       "      <td>...</td>\n",
       "      <td>...</td>\n",
       "      <td>...</td>\n",
       "      <td>...</td>\n",
       "      <td>...</td>\n",
       "      <td>...</td>\n",
       "      <td>...</td>\n",
       "      <td>...</td>\n",
       "      <td>...</td>\n",
       "      <td>...</td>\n",
       "    </tr>\n",
       "    <tr>\n",
       "      <th>1030</th>\n",
       "      <td>CATCACCACGCTCCATTATCCAGCCCCAAAGCGCAACAAGCCCACT...</td>\n",
       "      <td>SynPE</td>\n",
       "      <td>R2</td>\n",
       "      <td>Intron</td>\n",
       "      <td>ABL1_ex4_pos283G_A</td>\n",
       "      <td>0</td>\n",
       "      <td>1018497</td>\n",
       "      <td>0.000000</td>\n",
       "      <td>0</td>\n",
       "      <td>219921</td>\n",
       "      <td>0.215928</td>\n",
       "      <td>1.00000</td>\n",
       "    </tr>\n",
       "    <tr>\n",
       "      <th>1031</th>\n",
       "      <td>CATCACCACGCTCCATTATCCAGCCCCAAAGCGCAACAAGCCCACT...</td>\n",
       "      <td>SynPE</td>\n",
       "      <td>R2</td>\n",
       "      <td>Intron</td>\n",
       "      <td>ABL1_ex4_pos283G_C</td>\n",
       "      <td>0</td>\n",
       "      <td>1018497</td>\n",
       "      <td>0.000000</td>\n",
       "      <td>0</td>\n",
       "      <td>219921</td>\n",
       "      <td>0.215928</td>\n",
       "      <td>1.00000</td>\n",
       "    </tr>\n",
       "    <tr>\n",
       "      <th>1032</th>\n",
       "      <td>CATCACCACGCTCCATTATCCAGCCCCAAAGCGCAACAAGCCCACT...</td>\n",
       "      <td>SynPE</td>\n",
       "      <td>R2</td>\n",
       "      <td>Intron</td>\n",
       "      <td>ABL1_ex4_pos283G_C</td>\n",
       "      <td>0</td>\n",
       "      <td>1018497</td>\n",
       "      <td>0.000000</td>\n",
       "      <td>0</td>\n",
       "      <td>219921</td>\n",
       "      <td>0.215928</td>\n",
       "      <td>1.00000</td>\n",
       "    </tr>\n",
       "    <tr>\n",
       "      <th>1033</th>\n",
       "      <td>CATCACCACGCTCCATTATCCAGCCCCAAAGCGCAACAAGCCCACT...</td>\n",
       "      <td>SynPE</td>\n",
       "      <td>R2</td>\n",
       "      <td>Intron</td>\n",
       "      <td>ABL1_ex4_pos283G_T</td>\n",
       "      <td>0</td>\n",
       "      <td>1018497</td>\n",
       "      <td>0.000000</td>\n",
       "      <td>0</td>\n",
       "      <td>219921</td>\n",
       "      <td>0.215928</td>\n",
       "      <td>1.00000</td>\n",
       "    </tr>\n",
       "    <tr>\n",
       "      <th>1034</th>\n",
       "      <td>CATCACCACGCTCCATTATCCAGCCCCAAAGCGCAACAAGCCCACT...</td>\n",
       "      <td>SynPE</td>\n",
       "      <td>R2</td>\n",
       "      <td>Intron</td>\n",
       "      <td>ABL1_ex4_pos283G_T</td>\n",
       "      <td>0</td>\n",
       "      <td>1018497</td>\n",
       "      <td>0.000000</td>\n",
       "      <td>0</td>\n",
       "      <td>219921</td>\n",
       "      <td>0.215928</td>\n",
       "      <td>1.00000</td>\n",
       "    </tr>\n",
       "  </tbody>\n",
       "</table>\n",
       "<p>1035 rows × 12 columns</p>\n",
       "</div>"
      ],
      "text/plain": [
       "                                                 RefSeq  Label RefRead  \\\n",
       "0     CATCACCACGCTCCATTATCAGGCCCCAAAGCGCAACAAGCCCACT...  SynPE    Both   \n",
       "1     CATCACCACGCTCCATTATCAAGCTCCAAAGCGCAACAAGCCCACT...  SynPE    Both   \n",
       "2     CATCACCACGCTCCATTATCGAGCACCAAAGCGCAACAAGCCCACT...  SynPE    Both   \n",
       "3     CATCACCACGCTCCATTATCGAGCTCCAAAGCGCAACAAGCCCACT...  SynPE    Both   \n",
       "4     CATCACCACGCTCCATTATCTAGCTCCAAAGCGCAACAAGCCCACT...  SynPE    Both   \n",
       "...                                                 ...    ...     ...   \n",
       "1030  CATCACCACGCTCCATTATCCAGCCCCAAAGCGCAACAAGCCCACT...  SynPE      R2   \n",
       "1031  CATCACCACGCTCCATTATCCAGCCCCAAAGCGCAACAAGCCCACT...  SynPE      R2   \n",
       "1032  CATCACCACGCTCCATTATCCAGCCCCAAAGCGCAACAAGCCCACT...  SynPE      R2   \n",
       "1033  CATCACCACGCTCCATTATCCAGCCCCAAAGCGCAACAAGCCCACT...  SynPE      R2   \n",
       "1034  CATCACCACGCTCCATTATCCAGCCCCAAAGCGCAACAAGCCCACT...  SynPE      R2   \n",
       "\n",
       "      AA_var             SNV_var  count  Edited_WT_count       RPM  \\\n",
       "0      P216Q  ABL1_ex4_pos103C_A      3          1018497  2.058072   \n",
       "1      P216Q  ABL1_ex4_pos103C_A      1          1018497  0.686024   \n",
       "2      P216R  ABL1_ex4_pos103C_G      0          1018497  0.000000   \n",
       "3      P216R  ABL1_ex4_pos103C_G      0          1018497  0.000000   \n",
       "4      P216L  ABL1_ex4_pos103C_T      0          1018497  0.000000   \n",
       "...      ...                 ...    ...              ...       ...   \n",
       "1030  Intron  ABL1_ex4_pos283G_A      0          1018497  0.000000   \n",
       "1031  Intron  ABL1_ex4_pos283G_C      0          1018497  0.000000   \n",
       "1032  Intron  ABL1_ex4_pos283G_C      0          1018497  0.000000   \n",
       "1033  Intron  ABL1_ex4_pos283G_T      0          1018497  0.000000   \n",
       "1034  Intron  ABL1_ex4_pos283G_T      0          1018497  0.000000   \n",
       "\n",
       "      UE_SynPE_count  UE_WT_count        OR   pvalue  \n",
       "0                  0       219921  0.863711  1.00000  \n",
       "1                  1       219921  0.215928  0.32363  \n",
       "2                  0       219921  0.215928  1.00000  \n",
       "3                  0       219921  0.215928  1.00000  \n",
       "4                  0       219921  0.215928  1.00000  \n",
       "...              ...          ...       ...      ...  \n",
       "1030               0       219921  0.215928  1.00000  \n",
       "1031               0       219921  0.215928  1.00000  \n",
       "1032               0       219921  0.215928  1.00000  \n",
       "1033               0       219921  0.215928  1.00000  \n",
       "1034               0       219921  0.215928  1.00000  \n",
       "\n",
       "[1035 rows x 12 columns]"
      ]
     },
     "execution_count": 2,
     "metadata": {},
     "output_type": "execute_result"
    }
   ],
   "source": [
    "var_sample = 'data/read_counts/Stats_C4Control800.csv'\n",
    "background = 'data/read_counts/Stats_K562-PE4k_background_ex4-2.csv'\n",
    "df_orpv = read_statistics(var_sample, background)\n",
    "\n",
    "df_orpv"
   ]
  },
  {
   "cell_type": "markdown",
   "metadata": {},
   "source": [
    "## Step X: Distribution plot"
   ]
  },
  {
   "cell_type": "code",
   "execution_count": 1,
   "metadata": {},
   "outputs": [],
   "source": [
    "import matplotlib.pyplot as plt\n",
    "import pandas as pd\n",
    "from src.Analysis import make_invivo_data, make_invivo_joyplot"
   ]
  },
  {
   "cell_type": "code",
   "execution_count": 2,
   "metadata": {},
   "outputs": [],
   "source": [
    "class_file = 'variants_info/variants_class.csv'\n",
    "data_dir = 'data/LFC'\n",
    "\n",
    "sample   = 'C4Bosutinib791_LFC'\n",
    "tki      = 'Bosutinib'"
   ]
  },
  {
   "cell_type": "code",
   "execution_count": 3,
   "metadata": {},
   "outputs": [
    {
     "data": {
      "text/html": [
       "<div>\n",
       "<style scoped>\n",
       "    .dataframe tbody tr th:only-of-type {\n",
       "        vertical-align: middle;\n",
       "    }\n",
       "\n",
       "    .dataframe tbody tr th {\n",
       "        vertical-align: top;\n",
       "    }\n",
       "\n",
       "    .dataframe thead th {\n",
       "        text-align: right;\n",
       "    }\n",
       "</style>\n",
       "<table border=\"1\" class=\"dataframe\">\n",
       "  <thead>\n",
       "    <tr style=\"text-align: right;\">\n",
       "      <th></th>\n",
       "      <th>SNV</th>\n",
       "      <th>pos</th>\n",
       "      <th>LFC</th>\n",
       "      <th>Class</th>\n",
       "    </tr>\n",
       "    <tr>\n",
       "      <th>SAAV</th>\n",
       "      <th></th>\n",
       "      <th></th>\n",
       "      <th></th>\n",
       "      <th></th>\n",
       "    </tr>\n",
       "  </thead>\n",
       "  <tbody>\n",
       "    <tr>\n",
       "      <th>L273M</th>\n",
       "      <td>ABL1_ex4_pos273T_A</td>\n",
       "      <td>273</td>\n",
       "      <td>-1.061849</td>\n",
       "      <td>1_Resistant</td>\n",
       "    </tr>\n",
       "    <tr>\n",
       "      <th>L248V</th>\n",
       "      <td>ABL1_ex4_pos198C_G</td>\n",
       "      <td>248</td>\n",
       "      <td>5.122573</td>\n",
       "      <td>1_Resistant</td>\n",
       "    </tr>\n",
       "    <tr>\n",
       "      <th>M244V</th>\n",
       "      <td>ABL1_ex4_pos186A_G</td>\n",
       "      <td>244</td>\n",
       "      <td>1.967298</td>\n",
       "      <td>1_Resistant</td>\n",
       "    </tr>\n",
       "    <tr>\n",
       "      <th>Q252H</th>\n",
       "      <td>ABL1_ex4_pos212G_T</td>\n",
       "      <td>252</td>\n",
       "      <td>1.708458</td>\n",
       "      <td>1_Resistant</td>\n",
       "    </tr>\n",
       "    <tr>\n",
       "      <th>P223L</th>\n",
       "      <td>ABL1_ex4_pos124C_T</td>\n",
       "      <td>223</td>\n",
       "      <td>-3.038580</td>\n",
       "      <td>3_Sensitive</td>\n",
       "    </tr>\n",
       "    <tr>\n",
       "      <th>Q252E</th>\n",
       "      <td>ABL1_ex4_pos210C_G</td>\n",
       "      <td>252</td>\n",
       "      <td>-3.235209</td>\n",
       "      <td>2_Intermediate</td>\n",
       "    </tr>\n",
       "    <tr>\n",
       "      <th>K222M</th>\n",
       "      <td>ABL1_ex4_pos121A_T</td>\n",
       "      <td>222</td>\n",
       "      <td>-2.827248</td>\n",
       "      <td>3_Sensitive</td>\n",
       "    </tr>\n",
       "    <tr>\n",
       "      <th>P230L</th>\n",
       "      <td>ABL1_ex4_pos145C_T</td>\n",
       "      <td>230</td>\n",
       "      <td>-4.108752</td>\n",
       "      <td>3_Sensitive</td>\n",
       "    </tr>\n",
       "    <tr>\n",
       "      <th>K222R</th>\n",
       "      <td>ABL1_ex4_pos121A_G</td>\n",
       "      <td>222</td>\n",
       "      <td>-2.114849</td>\n",
       "      <td>3_Sensitive</td>\n",
       "    </tr>\n",
       "    <tr>\n",
       "      <th>G250A</th>\n",
       "      <td>ABL1_ex4_pos205G_C</td>\n",
       "      <td>250</td>\n",
       "      <td>1.877781</td>\n",
       "      <td>1_Resistant</td>\n",
       "    </tr>\n",
       "    <tr>\n",
       "      <th>S229T</th>\n",
       "      <td>ABL1_ex4_pos141T_A</td>\n",
       "      <td>229</td>\n",
       "      <td>-3.156632</td>\n",
       "      <td>3_Sensitive</td>\n",
       "    </tr>\n",
       "    <tr>\n",
       "      <th>K219T</th>\n",
       "      <td>ABL1_ex4_pos112A_C</td>\n",
       "      <td>219</td>\n",
       "      <td>-3.767860</td>\n",
       "      <td>3_Sensitive</td>\n",
       "    </tr>\n",
       "    <tr>\n",
       "      <th>M237V</th>\n",
       "      <td>ABL1_ex4_pos165A_G</td>\n",
       "      <td>237</td>\n",
       "      <td>-0.962582</td>\n",
       "      <td>2_Intermediate</td>\n",
       "    </tr>\n",
       "    <tr>\n",
       "      <th>K262R</th>\n",
       "      <td>ABL1_ex4_pos241A_G</td>\n",
       "      <td>262</td>\n",
       "      <td>-2.828265</td>\n",
       "      <td>3_Sensitive</td>\n",
       "    </tr>\n",
       "    <tr>\n",
       "      <th>P230R</th>\n",
       "      <td>ABL1_ex4_pos145C_G</td>\n",
       "      <td>230</td>\n",
       "      <td>-2.771711</td>\n",
       "      <td>3_Sensitive</td>\n",
       "    </tr>\n",
       "    <tr>\n",
       "      <th>I242L</th>\n",
       "      <td>ABL1_ex4_pos180A_C</td>\n",
       "      <td>242</td>\n",
       "      <td>-1.903474</td>\n",
       "      <td>3_Sensitive</td>\n",
       "    </tr>\n",
       "    <tr>\n",
       "      <th>K247R</th>\n",
       "      <td>ABL1_ex4_pos196A_G</td>\n",
       "      <td>247</td>\n",
       "      <td>-1.795637</td>\n",
       "      <td>2_Intermediate</td>\n",
       "    </tr>\n",
       "    <tr>\n",
       "      <th>D233E</th>\n",
       "      <td>ABL1_ex4_pos155C_G</td>\n",
       "      <td>233</td>\n",
       "      <td>-3.148211</td>\n",
       "      <td>2_Intermediate</td>\n",
       "    </tr>\n",
       "    <tr>\n",
       "      <th>K245T</th>\n",
       "      <td>ABL1_ex4_pos190A_C</td>\n",
       "      <td>245</td>\n",
       "      <td>-3.323795</td>\n",
       "      <td>3_Sensitive</td>\n",
       "    </tr>\n",
       "    <tr>\n",
       "      <th>E258K</th>\n",
       "      <td>ABL1_ex4_pos228G_A</td>\n",
       "      <td>258</td>\n",
       "      <td>-2.179692</td>\n",
       "      <td>2_Intermediate</td>\n",
       "    </tr>\n",
       "    <tr>\n",
       "      <th>W261C</th>\n",
       "      <td>ABL1_ex4_pos239G_C</td>\n",
       "      <td>261</td>\n",
       "      <td>-1.518225</td>\n",
       "      <td>3_Sensitive</td>\n",
       "    </tr>\n",
       "    <tr>\n",
       "      <th>K262E</th>\n",
       "      <td>ABL1_ex4_pos240A_G</td>\n",
       "      <td>262</td>\n",
       "      <td>-2.499938</td>\n",
       "      <td>3_Sensitive</td>\n",
       "    </tr>\n",
       "    <tr>\n",
       "      <th>T240A</th>\n",
       "      <td>ABL1_ex4_pos174A_G</td>\n",
       "      <td>240</td>\n",
       "      <td>-3.035887</td>\n",
       "      <td>3_Sensitive</td>\n",
       "    </tr>\n",
       "    <tr>\n",
       "      <th>Q252R</th>\n",
       "      <td>ABL1_ex4_pos211A_G</td>\n",
       "      <td>252</td>\n",
       "      <td>-4.661595</td>\n",
       "      <td>3_Sensitive</td>\n",
       "    </tr>\n",
       "    <tr>\n",
       "      <th>G254V</th>\n",
       "      <td>ABL1_ex4_pos217G_T</td>\n",
       "      <td>254</td>\n",
       "      <td>-4.008704</td>\n",
       "      <td>3_Sensitive</td>\n",
       "    </tr>\n",
       "    <tr>\n",
       "      <th>Y257N</th>\n",
       "      <td>ABL1_ex4_pos225T_A</td>\n",
       "      <td>257</td>\n",
       "      <td>-3.552909</td>\n",
       "      <td>3_Sensitive</td>\n",
       "    </tr>\n",
       "    <tr>\n",
       "      <th>V268A</th>\n",
       "      <td>ABL1_ex4_pos259T_C</td>\n",
       "      <td>268</td>\n",
       "      <td>-1.985720</td>\n",
       "      <td>3_Sensitive</td>\n",
       "    </tr>\n",
       "    <tr>\n",
       "      <th>T243N</th>\n",
       "      <td>ABL1_ex4_pos184C_A</td>\n",
       "      <td>243</td>\n",
       "      <td>-1.586347</td>\n",
       "      <td>3_Sensitive</td>\n",
       "    </tr>\n",
       "    <tr>\n",
       "      <th>V270G</th>\n",
       "      <td>ABL1_ex4_pos265T_G</td>\n",
       "      <td>270</td>\n",
       "      <td>-3.954368</td>\n",
       "      <td>3_Sensitive</td>\n",
       "    </tr>\n",
       "    <tr>\n",
       "      <th>V256M</th>\n",
       "      <td>ABL1_ex4_pos222G_A</td>\n",
       "      <td>256</td>\n",
       "      <td>-2.201347</td>\n",
       "      <td>3_Sensitive</td>\n",
       "    </tr>\n",
       "    <tr>\n",
       "      <th>R239S</th>\n",
       "      <td>ABL1_ex4_pos171C_A</td>\n",
       "      <td>239</td>\n",
       "      <td>-1.353030</td>\n",
       "      <td>3_Sensitive</td>\n",
       "    </tr>\n",
       "    <tr>\n",
       "      <th>R220R</th>\n",
       "      <td>ABL1_ex4_pos116C_A</td>\n",
       "      <td>220</td>\n",
       "      <td>-3.015523</td>\n",
       "      <td>3_Sensitive</td>\n",
       "    </tr>\n",
       "    <tr>\n",
       "      <th>P223P</th>\n",
       "      <td>ABL1_ex4_pos125C_A</td>\n",
       "      <td>223</td>\n",
       "      <td>-2.857064</td>\n",
       "      <td>3_Sensitive</td>\n",
       "    </tr>\n",
       "    <tr>\n",
       "      <th>P230P</th>\n",
       "      <td>ABL1_ex4_pos146C_T</td>\n",
       "      <td>230</td>\n",
       "      <td>-2.871492</td>\n",
       "      <td>3_Sensitive</td>\n",
       "    </tr>\n",
       "    <tr>\n",
       "      <th>K234K</th>\n",
       "      <td>ABL1_ex4_pos158G_A</td>\n",
       "      <td>234</td>\n",
       "      <td>-3.158306</td>\n",
       "      <td>2_Intermediate</td>\n",
       "    </tr>\n",
       "    <tr>\n",
       "      <th>T240T</th>\n",
       "      <td>ABL1_ex4_pos176G_A</td>\n",
       "      <td>240</td>\n",
       "      <td>-4.206848</td>\n",
       "      <td>3_Sensitive</td>\n",
       "    </tr>\n",
       "    <tr>\n",
       "      <th>K245K</th>\n",
       "      <td>ABL1_ex4_pos191G_A</td>\n",
       "      <td>245</td>\n",
       "      <td>-2.437174</td>\n",
       "      <td>2_Intermediate</td>\n",
       "    </tr>\n",
       "    <tr>\n",
       "      <th>G250G</th>\n",
       "      <td>ABL1_ex4_pos206G_T</td>\n",
       "      <td>250</td>\n",
       "      <td>-1.929828</td>\n",
       "      <td>3_Sensitive</td>\n",
       "    </tr>\n",
       "    <tr>\n",
       "      <th>E255E</th>\n",
       "      <td>ABL1_ex4_pos221G_A</td>\n",
       "      <td>255</td>\n",
       "      <td>-3.150753</td>\n",
       "      <td>3_Sensitive</td>\n",
       "    </tr>\n",
       "    <tr>\n",
       "      <th>V260V</th>\n",
       "      <td>ABL1_ex4_pos236G_A</td>\n",
       "      <td>260</td>\n",
       "      <td>-3.969405</td>\n",
       "      <td>3_Sensitive</td>\n",
       "    </tr>\n",
       "    <tr>\n",
       "      <th>S265S</th>\n",
       "      <td>ABL1_ex4_pos251C_T</td>\n",
       "      <td>265</td>\n",
       "      <td>-3.316122</td>\n",
       "      <td>3_Sensitive</td>\n",
       "    </tr>\n",
       "    <tr>\n",
       "      <th>V270V</th>\n",
       "      <td>ABL1_ex4_pos266G_A</td>\n",
       "      <td>270</td>\n",
       "      <td>-3.344982</td>\n",
       "      <td>3_Sensitive</td>\n",
       "    </tr>\n",
       "  </tbody>\n",
       "</table>\n",
       "</div>"
      ],
      "text/plain": [
       "                      SNV  pos       LFC           Class\n",
       "SAAV                                                    \n",
       "L273M  ABL1_ex4_pos273T_A  273 -1.061849     1_Resistant\n",
       "L248V  ABL1_ex4_pos198C_G  248  5.122573     1_Resistant\n",
       "M244V  ABL1_ex4_pos186A_G  244  1.967298     1_Resistant\n",
       "Q252H  ABL1_ex4_pos212G_T  252  1.708458     1_Resistant\n",
       "P223L  ABL1_ex4_pos124C_T  223 -3.038580     3_Sensitive\n",
       "Q252E  ABL1_ex4_pos210C_G  252 -3.235209  2_Intermediate\n",
       "K222M  ABL1_ex4_pos121A_T  222 -2.827248     3_Sensitive\n",
       "P230L  ABL1_ex4_pos145C_T  230 -4.108752     3_Sensitive\n",
       "K222R  ABL1_ex4_pos121A_G  222 -2.114849     3_Sensitive\n",
       "G250A  ABL1_ex4_pos205G_C  250  1.877781     1_Resistant\n",
       "S229T  ABL1_ex4_pos141T_A  229 -3.156632     3_Sensitive\n",
       "K219T  ABL1_ex4_pos112A_C  219 -3.767860     3_Sensitive\n",
       "M237V  ABL1_ex4_pos165A_G  237 -0.962582  2_Intermediate\n",
       "K262R  ABL1_ex4_pos241A_G  262 -2.828265     3_Sensitive\n",
       "P230R  ABL1_ex4_pos145C_G  230 -2.771711     3_Sensitive\n",
       "I242L  ABL1_ex4_pos180A_C  242 -1.903474     3_Sensitive\n",
       "K247R  ABL1_ex4_pos196A_G  247 -1.795637  2_Intermediate\n",
       "D233E  ABL1_ex4_pos155C_G  233 -3.148211  2_Intermediate\n",
       "K245T  ABL1_ex4_pos190A_C  245 -3.323795     3_Sensitive\n",
       "E258K  ABL1_ex4_pos228G_A  258 -2.179692  2_Intermediate\n",
       "W261C  ABL1_ex4_pos239G_C  261 -1.518225     3_Sensitive\n",
       "K262E  ABL1_ex4_pos240A_G  262 -2.499938     3_Sensitive\n",
       "T240A  ABL1_ex4_pos174A_G  240 -3.035887     3_Sensitive\n",
       "Q252R  ABL1_ex4_pos211A_G  252 -4.661595     3_Sensitive\n",
       "G254V  ABL1_ex4_pos217G_T  254 -4.008704     3_Sensitive\n",
       "Y257N  ABL1_ex4_pos225T_A  257 -3.552909     3_Sensitive\n",
       "V268A  ABL1_ex4_pos259T_C  268 -1.985720     3_Sensitive\n",
       "T243N  ABL1_ex4_pos184C_A  243 -1.586347     3_Sensitive\n",
       "V270G  ABL1_ex4_pos265T_G  270 -3.954368     3_Sensitive\n",
       "V256M  ABL1_ex4_pos222G_A  256 -2.201347     3_Sensitive\n",
       "R239S  ABL1_ex4_pos171C_A  239 -1.353030     3_Sensitive\n",
       "R220R  ABL1_ex4_pos116C_A  220 -3.015523     3_Sensitive\n",
       "P223P  ABL1_ex4_pos125C_A  223 -2.857064     3_Sensitive\n",
       "P230P  ABL1_ex4_pos146C_T  230 -2.871492     3_Sensitive\n",
       "K234K  ABL1_ex4_pos158G_A  234 -3.158306  2_Intermediate\n",
       "T240T  ABL1_ex4_pos176G_A  240 -4.206848     3_Sensitive\n",
       "K245K  ABL1_ex4_pos191G_A  245 -2.437174  2_Intermediate\n",
       "G250G  ABL1_ex4_pos206G_T  250 -1.929828     3_Sensitive\n",
       "E255E  ABL1_ex4_pos221G_A  255 -3.150753     3_Sensitive\n",
       "V260V  ABL1_ex4_pos236G_A  260 -3.969405     3_Sensitive\n",
       "S265S  ABL1_ex4_pos251C_T  265 -3.316122     3_Sensitive\n",
       "V270V  ABL1_ex4_pos266G_A  270 -3.344982     3_Sensitive"
      ]
     },
     "execution_count": 3,
     "metadata": {},
     "output_type": "execute_result"
    }
   ],
   "source": [
    "data = make_invivo_data(sample, tki)\n",
    "data"
   ]
  },
  {
   "cell_type": "code",
   "execution_count": 5,
   "metadata": {},
   "outputs": [
    {
     "name": "stdout",
     "output_type": "stream",
     "text": [
      "Sample Name: C9Bosutinib789_LFC / TKI: Bosutinib\n",
      "Sample Name: C9Bosutinib790_LFC / TKI: Bosutinib\n",
      "Sample Name: C4Bosutinib791_LFC / TKI: Bosutinib\n",
      "Sample Name: C9Bosutinib791_LFC / TKI: Bosutinib\n",
      "Sample Name: C4Ponatinib793_LFC / TKI: Ponatinib\n",
      "Sample Name: C4Ponatinib794_LFC / TKI: Ponatinib\n",
      "Sample Name: C9Ponatinib794_LFC / TKI: Ponatinib\n",
      "Sample Name: C4Ponatinib795_LFC / TKI: Ponatinib\n",
      "Sample Name: C9Ponatinib795_LFC / TKI: Ponatinib\n",
      "Sample Name: C4Ponatinib796_LFC / TKI: Ponatinib\n",
      "Sample Name: C9Ponatinib796_LFC / TKI: Ponatinib\n"
     ]
    },
    {
     "data": {
      "text/plain": [
       "<Figure size 7680x5760 with 0 Axes>"
      ]
     },
     "metadata": {},
     "output_type": "display_data"
    },
    {
     "data": {
      "text/plain": [
       "<Figure size 7680x5760 with 0 Axes>"
      ]
     },
     "metadata": {},
     "output_type": "display_data"
    },
    {
     "data": {
      "text/plain": [
       "<Figure size 7680x5760 with 0 Axes>"
      ]
     },
     "metadata": {},
     "output_type": "display_data"
    },
    {
     "data": {
      "text/plain": [
       "<Figure size 7680x5760 with 0 Axes>"
      ]
     },
     "metadata": {},
     "output_type": "display_data"
    },
    {
     "data": {
      "text/plain": [
       "<Figure size 7680x5760 with 0 Axes>"
      ]
     },
     "metadata": {},
     "output_type": "display_data"
    },
    {
     "data": {
      "text/plain": [
       "<Figure size 7680x5760 with 0 Axes>"
      ]
     },
     "metadata": {},
     "output_type": "display_data"
    },
    {
     "data": {
      "text/plain": [
       "<Figure size 7680x5760 with 0 Axes>"
      ]
     },
     "metadata": {},
     "output_type": "display_data"
    },
    {
     "data": {
      "text/plain": [
       "<Figure size 7680x5760 with 0 Axes>"
      ]
     },
     "metadata": {},
     "output_type": "display_data"
    },
    {
     "data": {
      "text/plain": [
       "<Figure size 7680x5760 with 0 Axes>"
      ]
     },
     "metadata": {},
     "output_type": "display_data"
    },
    {
     "data": {
      "text/plain": [
       "<Figure size 7680x5760 with 0 Axes>"
      ]
     },
     "metadata": {},
     "output_type": "display_data"
    },
    {
     "data": {
      "text/plain": [
       "<Figure size 7680x5760 with 0 Axes>"
      ]
     },
     "metadata": {},
     "output_type": "display_data"
    }
   ],
   "source": [
    "dict_samples = {\n",
    "    'C9Bosutinib789_LFC': 'Bosutinib',\n",
    "    'C9Bosutinib790_LFC': 'Bosutinib',\n",
    "    'C4Bosutinib791_LFC': 'Bosutinib',\n",
    "    'C9Bosutinib791_LFC': 'Bosutinib',\n",
    "    'C4Ponatinib793_LFC': 'Ponatinib',\n",
    "    'C4Ponatinib794_LFC': 'Ponatinib',\n",
    "    'C9Ponatinib794_LFC': 'Ponatinib',\n",
    "    'C4Ponatinib795_LFC': 'Ponatinib',\n",
    "    'C9Ponatinib795_LFC': 'Ponatinib',\n",
    "    'C4Ponatinib796_LFC': 'Ponatinib',\n",
    "    'C9Ponatinib796_LFC': 'Ponatinib',\n",
    "}\n",
    "\n",
    "for sample, tki in dict_samples.items():\n",
    "    print('Sample Name:', sample, '/ TKI:', tki)\n",
    "\n",
    "    data = make_invivo_data(sample, tki)\n",
    "    make_invivo_joyplot(data, save_path=f'figures/joyplt_x10_{sample}_240501.png', x_range=[-5, 10])"
   ]
  },
  {
   "cell_type": "code",
   "execution_count": null,
   "metadata": {},
   "outputs": [],
   "source": []
  }
 ],
 "metadata": {
  "kernelspec": {
   "display_name": "genet",
   "language": "python",
   "name": "python3"
  },
  "language_info": {
   "codemirror_mode": {
    "name": "ipython",
    "version": 3
   },
   "file_extension": ".py",
   "mimetype": "text/x-python",
   "name": "python",
   "nbconvert_exporter": "python",
   "pygments_lexer": "ipython3",
   "version": "3.10.13"
  },
  "orig_nbformat": 4
 },
 "nbformat": 4,
 "nbformat_minor": 2
}
