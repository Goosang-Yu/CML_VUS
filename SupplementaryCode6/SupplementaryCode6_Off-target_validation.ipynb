{
 "cells": [
  {
   "cell_type": "markdown",
   "metadata": {},
   "source": [
    "# **Supplementary Code 6**\n",
    "This notebook was used for analysis of NGS reads containing intended prime-editing and synonymous mutation marker. For more detail, please read Methods and Supplementary Information. \n",
    "\n",
    "Lead contact: Hyoungbum Henry Kim (hkim1@gmail.com)\n",
    "\n",
    "Technical contact: Goosang Yu (gsyu93@gmail.com), Yusang Jung (ys.jung@yuhs.ac)"
   ]
  },
  {
   "cell_type": "markdown",
   "metadata": {},
   "source": [
    "## Directory tree\n",
    "\n",
    "📦Working directory  \n",
    " ┣ 📂data  \n",
    " ┃ ┣ 📂NGS_FASTQ_files  \n",
    " ┃ ┣ 📂NGS_frequency_table  \n",
    " ┃ ┣ 📜ABL1_ex4.csv  \n",
    " ┃ ┗ 📜ABL1_ex5.csv  \n",
    " ┃  \n",
    " ┣ 📂src  \n",
    " ┃ ┣ 📜ABL1_ex4_pos1T_A_output.parquet  \n",
    " ┃  \n",
    " ┣ 📂figures  \n",
    " ┃ ┣ 📜ABL1_ex4_pos1T_A_output.parquet  \n",
    " ┃  \n",
    " ┣ 📂variants_info  \n",
    " ┃ ┣ 📜invivo_ex4_info.csv  \n",
    " ┃ ┗ 📜invivo_ex9_info.csv  \n",
    " ┃  \n",
    " ┗ 📜SuppleCode5.ipynb (this file)  "
   ]
  },
  {
   "cell_type": "markdown",
   "metadata": {},
   "source": [
    "# Requirements\n",
    "- CRISPResso2 (>= 2.x.x)\n",
    "- pandas"
   ]
  },
  {
   "cell_type": "markdown",
   "metadata": {},
   "source": [
    "# Step 0: Import packagies"
   ]
  },
  {
   "cell_type": "code",
   "execution_count": 4,
   "metadata": {},
   "outputs": [],
   "source": [
    "import sys, os\n",
    "import subprocess\n",
    "import pandas as pd\n",
    "from glob import glob\n"
   ]
  },
  {
   "cell_type": "code",
   "execution_count": null,
   "metadata": {},
   "outputs": [],
   "source": []
  }
 ],
 "metadata": {
  "kernelspec": {
   "display_name": "genet",
   "language": "python",
   "name": "python3"
  },
  "language_info": {
   "codemirror_mode": {
    "name": "ipython",
    "version": 3
   },
   "file_extension": ".py",
   "mimetype": "text/x-python",
   "name": "python",
   "nbconvert_exporter": "python",
   "pygments_lexer": "ipython3",
   "version": "3.10.13"
  },
  "orig_nbformat": 4
 },
 "nbformat": 4,
 "nbformat_minor": 2
}
