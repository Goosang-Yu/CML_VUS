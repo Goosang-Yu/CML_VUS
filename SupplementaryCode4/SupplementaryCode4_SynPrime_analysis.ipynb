{
 "cells": [
  {
   "cell_type": "markdown",
   "metadata": {},
   "source": [
    "# **Supplementary Code 4**\n",
    "This notebook was used for analysis of NGS reads containing intended prime-editing and synonymous mutation marker. For more detail, please read Methods and Supplementary Information. \n",
    "\n",
    "Lead contact: Hyoungbum Henry Kim (hkim1@gmail.com)\n",
    "\n",
    "Technical contact: Goosang Yu (gsyu93@gmail.com), Yusang Jung (ys.jung@yuhs.ac)"
   ]
  },
  {
   "cell_type": "markdown",
   "metadata": {},
   "source": [
    "## Directory tree\n",
    "\n",
    "📦Working directory  \n",
    " ┣ 📂data  \n",
    " ┃ ┣ 📂NGS_FASTQ_files  \n",
    " ┃ ┣ 📂NGS_frequency_table  \n",
    " ┃ ┃ ┣ 📜C4Bosutinib791.txt  \n",
    " ┃ ┃ ┣ 📜C4Control797.txt  \n",
    " ┃ ┃ ┗ 📜...  \n",
    " ┃ ┣ 📂read_counts  \n",
    " ┃  \n",
    " ┣ 📂src  \n",
    " ┃ ┣ 📜Alignment.py  \n",
    " ┃ ┣ 📜VarCalling.py  \n",
    " ┃  \n",
    " ┣ 📂variants_info  \n",
    " ┃ ┣ 📜ex4_info.csv  \n",
    " ┃ ┣ 📜ex4-1_output_template.csv  \n",
    " ┃ ┣ 📜ex4-2_output_template.csv  \n",
    " ┃ ┣ 📜ex5_info.csv  \n",
    " ┃ ┣ 📜ex6_info.csv  \n",
    " ┃ ┣ 📜ex7_info.csv  \n",
    " ┃ ┣ 📜ex8_info.csv  \n",
    " ┃ ┣ 📜ex9_info.csv  \n",
    " ┃ ┣ 📜invivo_ex4_info.csv  \n",
    " ┃ ┗ 📜invivo_ex9_info.csv  \n",
    " ┃  \n",
    " ┗ 📜SuppleCode4.ipynb (this file)  "
   ]
  },
  {
   "cell_type": "markdown",
   "metadata": {},
   "source": [
    "# Requirements\n",
    "- CRISPResso2 (>= 2.x.x)\n",
    "- pandas"
   ]
  },
  {
   "cell_type": "markdown",
   "metadata": {},
   "source": [
    "# Step 0: Import packagies"
   ]
  },
  {
   "cell_type": "code",
   "execution_count": 4,
   "metadata": {},
   "outputs": [],
   "source": [
    "import sys, os\n",
    "import subprocess\n",
    "import pandas as pd\n",
    "from glob import glob\n",
    "\n",
    "from src.Alignment import ABL1VUS\n",
    "from src.VarCalling import *"
   ]
  },
  {
   "cell_type": "markdown",
   "metadata": {},
   "source": [
    "## In vivo xenograft model screening analysis\n",
    "Figure X. XX"
   ]
  },
  {
   "cell_type": "markdown",
   "metadata": {},
   "source": [
    "### Step 1: Download NGS FASTQ files"
   ]
  },
  {
   "cell_type": "markdown",
   "metadata": {},
   "source": [
    "### Step 2: Alignment NGS reads to reference variants sequences"
   ]
  },
  {
   "cell_type": "code",
   "execution_count": 6,
   "metadata": {},
   "outputs": [],
   "source": [
    "list_samples = [\n",
    "    'C9Bosutinib789',\n",
    "\n",
    "    'C9Bosutinib790',\n",
    "\n",
    "    'C4Bosutinib791',\n",
    "    'C9Bosutinib791',\n",
    "\n",
    "    'C4Ponatinib793',\n",
    "\n",
    "    'C4Ponatinib794',\n",
    "    'C9Ponatinib794',\n",
    "\n",
    "    'C4Ponatinib795',\n",
    "    'C9Ponatinib795',\n",
    "\n",
    "    'C4Ponatinib796',\n",
    "    'C9Ponatinib796',\n",
    "\n",
    "    'C4Control797',\n",
    "    'C9Control797',\n",
    "\n",
    "    'C4Control798',\n",
    "    'C9Control798',\n",
    "\n",
    "    'C9Control800',\n",
    "    'C4Control800',\n",
    "\n",
    "    'K562-PE4k_background_ex4-2',\n",
    "    'K562-PE4k_background_ex9',\n",
    "]"
   ]
  },
  {
   "cell_type": "code",
   "execution_count": null,
   "metadata": {},
   "outputs": [],
   "source": [
    "data_dir = 'data/NGS_FASTQ_files/'\n",
    "\n",
    "for sample_id in list_samples:\n",
    "    \n",
    "    files = list(glob(f'{data_dir}/{sample_id}*.fq.gz'))\n",
    "    \n",
    "    exon_num = list(sample_id)[1]\n",
    "    \n",
    "    r1 = files[0]\n",
    "    r2 = files[1]\n",
    "\n",
    "    abl_e8 = ABL1VUS(sample_id, r1, r2, exon=f'invivo_exon{exon_num}').run(out_dir='data')\n",
    "\n"
   ]
  },
  {
   "cell_type": "markdown",
   "metadata": {},
   "source": [
    "## Step 3: Variant read counts"
   ]
  },
  {
   "cell_type": "code",
   "execution_count": 7,
   "metadata": {},
   "outputs": [
    {
     "name": "stdout",
     "output_type": "stream",
     "text": [
      "\n",
      "[Info] Start - K562-PE4k_background_ex4-2\n",
      "[Info] Length of variants: 1581\n"
     ]
    },
    {
     "name": "stderr",
     "output_type": "stream",
     "text": [
      "[Info] Read counting: K562-PE4k_background_ex4-2: 100%|██████████| 36367/36367 [00:03<00:00, 10515.97it/s]\n"
     ]
    }
   ],
   "source": [
    "sample_id = 'K562-PE4k_background_ex4-2'\n",
    "exon_num = 4\n",
    "\n",
    "df_count = make_count_file(freq_table=f'data/NGS_frequency_table/{sample_id}.txt',\n",
    "                            var_ref=f'variants_info/invivo_ex{exon_num}_info.csv')\n",
    "\n",
    "df_count.to_csv(f'data/read_counts/Stats_{sample_id}.csv', index=False)"
   ]
  },
  {
   "cell_type": "code",
   "execution_count": 8,
   "metadata": {},
   "outputs": [
    {
     "name": "stdout",
     "output_type": "stream",
     "text": [
      "\n",
      "[Info] Start - K562-PE4k_background_ex9\n",
      "[Info] Length of variants: 799\n"
     ]
    },
    {
     "name": "stderr",
     "output_type": "stream",
     "text": [
      "[Info] Read counting: K562-PE4k_background_ex9: 100%|██████████| 8383/8383 [00:00<00:00, 10080.98it/s]\n"
     ]
    }
   ],
   "source": [
    "sample_id = 'K562-PE4k_background_ex9'\n",
    "exon_num = 9\n",
    "\n",
    "df_count = make_count_file(freq_table=f'data/NGS_frequency_table/{sample_id}.txt',\n",
    "                            var_ref=f'variants_info/invivo_ex{exon_num}_info.csv')\n",
    "\n",
    "df_count.to_csv(f'data/read_counts/Stats_{sample_id}.csv', index=False)"
   ]
  },
  {
   "cell_type": "code",
   "execution_count": 5,
   "metadata": {},
   "outputs": [
    {
     "name": "stdout",
     "output_type": "stream",
     "text": [
      "\n",
      "[Info] Start - C9Bosutinib789\n",
      "[Info] Length of variants: 799\n"
     ]
    },
    {
     "name": "stderr",
     "output_type": "stream",
     "text": [
      "[Info] Read counting: C9Bosutinib789: 100%|██████████| 52886/52886 [00:05<00:00, 10495.71it/s]\n"
     ]
    },
    {
     "name": "stdout",
     "output_type": "stream",
     "text": [
      "\n",
      "[Info] Start - C9Bosutinib790\n",
      "[Info] Length of variants: 799\n"
     ]
    },
    {
     "name": "stderr",
     "output_type": "stream",
     "text": [
      "[Info] Read counting: C9Bosutinib790: 100%|██████████| 42050/42050 [00:04<00:00, 10342.63it/s]\n"
     ]
    },
    {
     "name": "stdout",
     "output_type": "stream",
     "text": [
      "\n",
      "[Info] Start - C4Bosutinib791\n",
      "[Info] Length of variants: 1581\n"
     ]
    },
    {
     "name": "stderr",
     "output_type": "stream",
     "text": [
      "[Info] Read counting: C4Bosutinib791: 100%|██████████| 284021/284021 [00:27<00:00, 10354.46it/s]\n"
     ]
    },
    {
     "name": "stdout",
     "output_type": "stream",
     "text": [
      "\n",
      "[Info] Start - C9Bosutinib791\n",
      "[Info] Length of variants: 799\n"
     ]
    },
    {
     "name": "stderr",
     "output_type": "stream",
     "text": [
      "[Info] Read counting: C9Bosutinib791: 100%|██████████| 55855/55855 [00:05<00:00, 9366.39it/s] \n"
     ]
    },
    {
     "name": "stdout",
     "output_type": "stream",
     "text": [
      "\n",
      "[Info] Start - C4Ponatinib793\n",
      "[Info] Length of variants: 1581\n"
     ]
    },
    {
     "name": "stderr",
     "output_type": "stream",
     "text": [
      "[Info] Read counting: C4Ponatinib793: 100%|██████████| 327517/327517 [00:31<00:00, 10282.92it/s]\n"
     ]
    },
    {
     "name": "stdout",
     "output_type": "stream",
     "text": [
      "\n",
      "[Info] Start - C4Ponatinib794\n",
      "[Info] Length of variants: 1581\n"
     ]
    },
    {
     "name": "stderr",
     "output_type": "stream",
     "text": [
      "[Info] Read counting: C4Ponatinib794: 100%|██████████| 294338/294338 [00:28<00:00, 10295.50it/s]\n"
     ]
    },
    {
     "name": "stdout",
     "output_type": "stream",
     "text": [
      "\n",
      "[Info] Start - C9Ponatinib794\n",
      "[Info] Length of variants: 799\n"
     ]
    },
    {
     "name": "stderr",
     "output_type": "stream",
     "text": [
      "[Info] Read counting: C9Ponatinib794: 100%|██████████| 77998/77998 [00:07<00:00, 10404.56it/s]\n"
     ]
    },
    {
     "name": "stdout",
     "output_type": "stream",
     "text": [
      "\n",
      "[Info] Start - C4Ponatinib795\n",
      "[Info] Length of variants: 1581\n"
     ]
    },
    {
     "name": "stderr",
     "output_type": "stream",
     "text": [
      "[Info] Read counting: C4Ponatinib795: 100%|██████████| 324937/324937 [00:31<00:00, 10341.72it/s]\n"
     ]
    },
    {
     "name": "stdout",
     "output_type": "stream",
     "text": [
      "\n",
      "[Info] Start - C9Ponatinib795\n",
      "[Info] Length of variants: 799\n"
     ]
    },
    {
     "name": "stderr",
     "output_type": "stream",
     "text": [
      "[Info] Read counting: C9Ponatinib795: 100%|██████████| 76429/76429 [00:07<00:00, 10410.99it/s]\n"
     ]
    },
    {
     "name": "stdout",
     "output_type": "stream",
     "text": [
      "\n",
      "[Info] Start - C4Ponatinib796\n",
      "[Info] Length of variants: 1581\n"
     ]
    },
    {
     "name": "stderr",
     "output_type": "stream",
     "text": [
      "[Info] Read counting: C4Ponatinib796: 100%|██████████| 374900/374900 [00:36<00:00, 10310.30it/s]\n"
     ]
    },
    {
     "name": "stdout",
     "output_type": "stream",
     "text": [
      "\n",
      "[Info] Start - C9Ponatinib796\n",
      "[Info] Length of variants: 799\n"
     ]
    },
    {
     "name": "stderr",
     "output_type": "stream",
     "text": [
      "[Info] Read counting: C9Ponatinib796: 100%|██████████| 77316/77316 [00:07<00:00, 10387.44it/s]\n"
     ]
    },
    {
     "name": "stdout",
     "output_type": "stream",
     "text": [
      "\n",
      "[Info] Start - C4Control797\n",
      "[Info] Length of variants: 1581\n"
     ]
    },
    {
     "name": "stderr",
     "output_type": "stream",
     "text": [
      "[Info] Read counting: C4Control797: 100%|██████████| 306136/306136 [00:29<00:00, 10375.86it/s]\n"
     ]
    },
    {
     "name": "stdout",
     "output_type": "stream",
     "text": [
      "\n",
      "[Info] Start - C9Control797\n",
      "[Info] Length of variants: 799\n"
     ]
    },
    {
     "name": "stderr",
     "output_type": "stream",
     "text": [
      "[Info] Read counting: C9Control797: 100%|██████████| 70761/70761 [00:06<00:00, 10396.05it/s]\n"
     ]
    },
    {
     "name": "stdout",
     "output_type": "stream",
     "text": [
      "\n",
      "[Info] Start - C4Control798\n",
      "[Info] Length of variants: 1581\n"
     ]
    },
    {
     "name": "stderr",
     "output_type": "stream",
     "text": [
      "[Info] Read counting: C4Control798: 100%|██████████| 300013/300013 [00:29<00:00, 10337.80it/s]\n"
     ]
    },
    {
     "name": "stdout",
     "output_type": "stream",
     "text": [
      "\n",
      "[Info] Start - C9Control798\n",
      "[Info] Length of variants: 799\n"
     ]
    },
    {
     "name": "stderr",
     "output_type": "stream",
     "text": [
      "[Info] Read counting: C9Control798: 100%|██████████| 76289/76289 [00:07<00:00, 10521.16it/s]\n"
     ]
    },
    {
     "name": "stdout",
     "output_type": "stream",
     "text": [
      "\n",
      "[Info] Start - C9Control800\n",
      "[Info] Length of variants: 799\n"
     ]
    },
    {
     "name": "stderr",
     "output_type": "stream",
     "text": [
      "[Info] Read counting: C9Control800: 100%|██████████| 60038/60038 [00:05<00:00, 10393.67it/s]\n"
     ]
    },
    {
     "name": "stdout",
     "output_type": "stream",
     "text": [
      "\n",
      "[Info] Start - C4Control800\n",
      "[Info] Length of variants: 1581\n"
     ]
    },
    {
     "name": "stderr",
     "output_type": "stream",
     "text": [
      "[Info] Read counting: C4Control800: 100%|██████████| 307297/307297 [00:29<00:00, 10348.52it/s]\n"
     ]
    }
   ],
   "source": [
    "for sample_id in list_samples:\n",
    "    \n",
    "    exon_num = list(sample_id)[1]\n",
    "\n",
    "    df_count = make_count_file(freq_table=f'data/NGS_frequency_table/{sample_id}.txt',\n",
    "                               var_ref=f'variants_info/invivo_ex{exon_num}_info.csv')\n",
    "    \n",
    "    df_count.to_csv(f'data/read_counts/Stats_{sample_id}.csv', index=False)\n"
   ]
  },
  {
   "cell_type": "markdown",
   "metadata": {},
   "source": [
    "## Step 4: Odds ratio and p-value calculation"
   ]
  },
  {
   "cell_type": "code",
   "execution_count": 1,
   "metadata": {},
   "outputs": [],
   "source": [
    "from src.VarCalling import read_statistics"
   ]
  },
  {
   "cell_type": "code",
   "execution_count": 2,
   "metadata": {},
   "outputs": [
    {
     "name": "stdout",
     "output_type": "stream",
     "text": [
      "Analysis: Stats_C4Control800\n"
     ]
    },
    {
     "data": {
      "text/html": [
       "<div>\n",
       "<style scoped>\n",
       "    .dataframe tbody tr th:only-of-type {\n",
       "        vertical-align: middle;\n",
       "    }\n",
       "\n",
       "    .dataframe tbody tr th {\n",
       "        vertical-align: top;\n",
       "    }\n",
       "\n",
       "    .dataframe thead th {\n",
       "        text-align: right;\n",
       "    }\n",
       "</style>\n",
       "<table border=\"1\" class=\"dataframe\">\n",
       "  <thead>\n",
       "    <tr style=\"text-align: right;\">\n",
       "      <th></th>\n",
       "      <th>RefSeq</th>\n",
       "      <th>Label</th>\n",
       "      <th>RefRead</th>\n",
       "      <th>AA_var</th>\n",
       "      <th>SNV_var</th>\n",
       "      <th>count</th>\n",
       "      <th>Edited_WT_count</th>\n",
       "      <th>RPM</th>\n",
       "      <th>UE_SynPE_count</th>\n",
       "      <th>UE_WT_count</th>\n",
       "      <th>OR</th>\n",
       "      <th>pvalue</th>\n",
       "    </tr>\n",
       "  </thead>\n",
       "  <tbody>\n",
       "    <tr>\n",
       "      <th>0</th>\n",
       "      <td>CATCACCACGCTCCATTATCAGGCCCCAAAGCGCAACAAGCCCACT...</td>\n",
       "      <td>SynPE</td>\n",
       "      <td>Both</td>\n",
       "      <td>P216Q</td>\n",
       "      <td>ABL1_ex4_pos103C_A</td>\n",
       "      <td>3</td>\n",
       "      <td>1018497</td>\n",
       "      <td>2.058072</td>\n",
       "      <td>0</td>\n",
       "      <td>219921</td>\n",
       "      <td>0.863711</td>\n",
       "      <td>1.00000</td>\n",
       "    </tr>\n",
       "    <tr>\n",
       "      <th>1</th>\n",
       "      <td>CATCACCACGCTCCATTATCAAGCTCCAAAGCGCAACAAGCCCACT...</td>\n",
       "      <td>SynPE</td>\n",
       "      <td>Both</td>\n",
       "      <td>P216Q</td>\n",
       "      <td>ABL1_ex4_pos103C_A</td>\n",
       "      <td>1</td>\n",
       "      <td>1018497</td>\n",
       "      <td>0.686024</td>\n",
       "      <td>1</td>\n",
       "      <td>219921</td>\n",
       "      <td>0.215928</td>\n",
       "      <td>0.32363</td>\n",
       "    </tr>\n",
       "    <tr>\n",
       "      <th>2</th>\n",
       "      <td>CATCACCACGCTCCATTATCGAGCACCAAAGCGCAACAAGCCCACT...</td>\n",
       "      <td>SynPE</td>\n",
       "      <td>Both</td>\n",
       "      <td>P216R</td>\n",
       "      <td>ABL1_ex4_pos103C_G</td>\n",
       "      <td>0</td>\n",
       "      <td>1018497</td>\n",
       "      <td>0.000000</td>\n",
       "      <td>0</td>\n",
       "      <td>219921</td>\n",
       "      <td>0.215928</td>\n",
       "      <td>1.00000</td>\n",
       "    </tr>\n",
       "    <tr>\n",
       "      <th>3</th>\n",
       "      <td>CATCACCACGCTCCATTATCGAGCTCCAAAGCGCAACAAGCCCACT...</td>\n",
       "      <td>SynPE</td>\n",
       "      <td>Both</td>\n",
       "      <td>P216R</td>\n",
       "      <td>ABL1_ex4_pos103C_G</td>\n",
       "      <td>0</td>\n",
       "      <td>1018497</td>\n",
       "      <td>0.000000</td>\n",
       "      <td>0</td>\n",
       "      <td>219921</td>\n",
       "      <td>0.215928</td>\n",
       "      <td>1.00000</td>\n",
       "    </tr>\n",
       "    <tr>\n",
       "      <th>4</th>\n",
       "      <td>CATCACCACGCTCCATTATCTAGCTCCAAAGCGCAACAAGCCCACT...</td>\n",
       "      <td>SynPE</td>\n",
       "      <td>Both</td>\n",
       "      <td>P216L</td>\n",
       "      <td>ABL1_ex4_pos103C_T</td>\n",
       "      <td>0</td>\n",
       "      <td>1018497</td>\n",
       "      <td>0.000000</td>\n",
       "      <td>0</td>\n",
       "      <td>219921</td>\n",
       "      <td>0.215928</td>\n",
       "      <td>1.00000</td>\n",
       "    </tr>\n",
       "    <tr>\n",
       "      <th>...</th>\n",
       "      <td>...</td>\n",
       "      <td>...</td>\n",
       "      <td>...</td>\n",
       "      <td>...</td>\n",
       "      <td>...</td>\n",
       "      <td>...</td>\n",
       "      <td>...</td>\n",
       "      <td>...</td>\n",
       "      <td>...</td>\n",
       "      <td>...</td>\n",
       "      <td>...</td>\n",
       "      <td>...</td>\n",
       "    </tr>\n",
       "    <tr>\n",
       "      <th>1030</th>\n",
       "      <td>CATCACCACGCTCCATTATCCAGCCCCAAAGCGCAACAAGCCCACT...</td>\n",
       "      <td>SynPE</td>\n",
       "      <td>R2</td>\n",
       "      <td>Intron</td>\n",
       "      <td>ABL1_ex4_pos283G_A</td>\n",
       "      <td>0</td>\n",
       "      <td>1018497</td>\n",
       "      <td>0.000000</td>\n",
       "      <td>0</td>\n",
       "      <td>219921</td>\n",
       "      <td>0.215928</td>\n",
       "      <td>1.00000</td>\n",
       "    </tr>\n",
       "    <tr>\n",
       "      <th>1031</th>\n",
       "      <td>CATCACCACGCTCCATTATCCAGCCCCAAAGCGCAACAAGCCCACT...</td>\n",
       "      <td>SynPE</td>\n",
       "      <td>R2</td>\n",
       "      <td>Intron</td>\n",
       "      <td>ABL1_ex4_pos283G_C</td>\n",
       "      <td>0</td>\n",
       "      <td>1018497</td>\n",
       "      <td>0.000000</td>\n",
       "      <td>0</td>\n",
       "      <td>219921</td>\n",
       "      <td>0.215928</td>\n",
       "      <td>1.00000</td>\n",
       "    </tr>\n",
       "    <tr>\n",
       "      <th>1032</th>\n",
       "      <td>CATCACCACGCTCCATTATCCAGCCCCAAAGCGCAACAAGCCCACT...</td>\n",
       "      <td>SynPE</td>\n",
       "      <td>R2</td>\n",
       "      <td>Intron</td>\n",
       "      <td>ABL1_ex4_pos283G_C</td>\n",
       "      <td>0</td>\n",
       "      <td>1018497</td>\n",
       "      <td>0.000000</td>\n",
       "      <td>0</td>\n",
       "      <td>219921</td>\n",
       "      <td>0.215928</td>\n",
       "      <td>1.00000</td>\n",
       "    </tr>\n",
       "    <tr>\n",
       "      <th>1033</th>\n",
       "      <td>CATCACCACGCTCCATTATCCAGCCCCAAAGCGCAACAAGCCCACT...</td>\n",
       "      <td>SynPE</td>\n",
       "      <td>R2</td>\n",
       "      <td>Intron</td>\n",
       "      <td>ABL1_ex4_pos283G_T</td>\n",
       "      <td>0</td>\n",
       "      <td>1018497</td>\n",
       "      <td>0.000000</td>\n",
       "      <td>0</td>\n",
       "      <td>219921</td>\n",
       "      <td>0.215928</td>\n",
       "      <td>1.00000</td>\n",
       "    </tr>\n",
       "    <tr>\n",
       "      <th>1034</th>\n",
       "      <td>CATCACCACGCTCCATTATCCAGCCCCAAAGCGCAACAAGCCCACT...</td>\n",
       "      <td>SynPE</td>\n",
       "      <td>R2</td>\n",
       "      <td>Intron</td>\n",
       "      <td>ABL1_ex4_pos283G_T</td>\n",
       "      <td>0</td>\n",
       "      <td>1018497</td>\n",
       "      <td>0.000000</td>\n",
       "      <td>0</td>\n",
       "      <td>219921</td>\n",
       "      <td>0.215928</td>\n",
       "      <td>1.00000</td>\n",
       "    </tr>\n",
       "  </tbody>\n",
       "</table>\n",
       "<p>1035 rows × 12 columns</p>\n",
       "</div>"
      ],
      "text/plain": [
       "                                                 RefSeq  Label RefRead  \\\n",
       "0     CATCACCACGCTCCATTATCAGGCCCCAAAGCGCAACAAGCCCACT...  SynPE    Both   \n",
       "1     CATCACCACGCTCCATTATCAAGCTCCAAAGCGCAACAAGCCCACT...  SynPE    Both   \n",
       "2     CATCACCACGCTCCATTATCGAGCACCAAAGCGCAACAAGCCCACT...  SynPE    Both   \n",
       "3     CATCACCACGCTCCATTATCGAGCTCCAAAGCGCAACAAGCCCACT...  SynPE    Both   \n",
       "4     CATCACCACGCTCCATTATCTAGCTCCAAAGCGCAACAAGCCCACT...  SynPE    Both   \n",
       "...                                                 ...    ...     ...   \n",
       "1030  CATCACCACGCTCCATTATCCAGCCCCAAAGCGCAACAAGCCCACT...  SynPE      R2   \n",
       "1031  CATCACCACGCTCCATTATCCAGCCCCAAAGCGCAACAAGCCCACT...  SynPE      R2   \n",
       "1032  CATCACCACGCTCCATTATCCAGCCCCAAAGCGCAACAAGCCCACT...  SynPE      R2   \n",
       "1033  CATCACCACGCTCCATTATCCAGCCCCAAAGCGCAACAAGCCCACT...  SynPE      R2   \n",
       "1034  CATCACCACGCTCCATTATCCAGCCCCAAAGCGCAACAAGCCCACT...  SynPE      R2   \n",
       "\n",
       "      AA_var             SNV_var  count  Edited_WT_count       RPM  \\\n",
       "0      P216Q  ABL1_ex4_pos103C_A      3          1018497  2.058072   \n",
       "1      P216Q  ABL1_ex4_pos103C_A      1          1018497  0.686024   \n",
       "2      P216R  ABL1_ex4_pos103C_G      0          1018497  0.000000   \n",
       "3      P216R  ABL1_ex4_pos103C_G      0          1018497  0.000000   \n",
       "4      P216L  ABL1_ex4_pos103C_T      0          1018497  0.000000   \n",
       "...      ...                 ...    ...              ...       ...   \n",
       "1030  Intron  ABL1_ex4_pos283G_A      0          1018497  0.000000   \n",
       "1031  Intron  ABL1_ex4_pos283G_C      0          1018497  0.000000   \n",
       "1032  Intron  ABL1_ex4_pos283G_C      0          1018497  0.000000   \n",
       "1033  Intron  ABL1_ex4_pos283G_T      0          1018497  0.000000   \n",
       "1034  Intron  ABL1_ex4_pos283G_T      0          1018497  0.000000   \n",
       "\n",
       "      UE_SynPE_count  UE_WT_count        OR   pvalue  \n",
       "0                  0       219921  0.863711  1.00000  \n",
       "1                  1       219921  0.215928  0.32363  \n",
       "2                  0       219921  0.215928  1.00000  \n",
       "3                  0       219921  0.215928  1.00000  \n",
       "4                  0       219921  0.215928  1.00000  \n",
       "...              ...          ...       ...      ...  \n",
       "1030               0       219921  0.215928  1.00000  \n",
       "1031               0       219921  0.215928  1.00000  \n",
       "1032               0       219921  0.215928  1.00000  \n",
       "1033               0       219921  0.215928  1.00000  \n",
       "1034               0       219921  0.215928  1.00000  \n",
       "\n",
       "[1035 rows x 12 columns]"
      ]
     },
     "execution_count": 2,
     "metadata": {},
     "output_type": "execute_result"
    }
   ],
   "source": [
    "var_sample = 'data/read_counts/Stats_C4Control800.csv'\n",
    "background = 'data/read_counts/Stats_K562-PE4k_background_ex4-2.csv'\n",
    "df_orpv = read_statistics(var_sample, background)\n",
    "\n",
    "df_orpv"
   ]
  },
  {
   "cell_type": "code",
   "execution_count": null,
   "metadata": {},
   "outputs": [],
   "source": []
  }
 ],
 "metadata": {
  "kernelspec": {
   "display_name": "genet",
   "language": "python",
   "name": "python3"
  },
  "language_info": {
   "codemirror_mode": {
    "name": "ipython",
    "version": 3
   },
   "file_extension": ".py",
   "mimetype": "text/x-python",
   "name": "python",
   "nbconvert_exporter": "python",
   "pygments_lexer": "ipython3",
   "version": "3.10.13"
  },
  "orig_nbformat": 4
 },
 "nbformat": 4,
 "nbformat_minor": 2
}
